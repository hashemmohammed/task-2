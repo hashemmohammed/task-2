{
 "cells": [
  {
   "cell_type": "code",
   "execution_count": 6,
   "id": "4842cac5-73d1-4cd9-90c3-73b7cd27d72a",
   "metadata": {},
   "outputs": [
    {
     "name": "stdout",
     "output_type": "stream",
     "text": [
      "Student Score:\n",
      "Hashem: 90.67\n",
      "Ahmed: 90.00\n",
      "Khaled: 93.00\n"
     ]
    }
   ],
   "source": [
    "students = [\n",
    "    {\"name\": \"Hashem\", \"grades\": [95, 90, 87]},\n",
    "    {\"name\": \"Ahmed\", \"grades\": [93, 85, 92]},\n",
    "    {\"name\": \"Khaled\", \"grades\": [99, 85, 95]}\n",
    "]\n",
    "print(\"Student Score:\")\n",
    "for student in students:\n",
    "    Score_grade = sum(student[\"grades\"]) / len(student[\"grades\"])\n",
    "    print(f\"{student['name']}: {Score_grade:.2f}\")"
   ]
  },
  {
   "cell_type": "code",
   "execution_count": null,
   "id": "706e465e-66d4-4687-99e5-6b33ccd63fcf",
   "metadata": {},
   "outputs": [],
   "source": []
  }
 ],
 "metadata": {
  "kernelspec": {
   "display_name": "Python [conda env:base] *",
   "language": "python",
   "name": "conda-base-py"
  },
  "language_info": {
   "codemirror_mode": {
    "name": "ipython",
    "version": 3
   },
   "file_extension": ".py",
   "mimetype": "text/x-python",
   "name": "python",
   "nbconvert_exporter": "python",
   "pygments_lexer": "ipython3",
   "version": "3.12.7"
  }
 },
 "nbformat": 4,
 "nbformat_minor": 5
}
