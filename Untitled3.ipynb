{
 "cells": [
  {
   "cell_type": "code",
   "execution_count": null,
   "id": "b0e85ecb-b926-47b2-95c4-11854ebd0cfa",
   "metadata": {},
   "outputs": [
    {
     "name": "stdout",
     "output_type": "stream",
     "text": [
      "Contacts:\n",
      "Hassan\n",
      "Mohammed\n",
      "Ahmed\n",
      "Zeka\n"
     ]
    }
   ],
   "source": [
    "contacts = {\n",
    "    \"Hassan\": \"0115454898\",\n",
    "    \"Mohammed\": \"0102589874\",\n",
    "    \"Ahmed\": \"0125897412\",\n",
    "    \"Zeka\" : \"011568974\"\n",
    "}\n",
    "print(\"Contacts:\")\n",
    "for name in contacts.keys():\n",
    "    print(name)\n",
    "    \n",
    "search_name = input(\"Enter a name to search for their phone number: \")\n",
    "if search_name in contacts:\n",
    "    print(f\"{search_name}'s phone number is {contacts[search_name]}\")\n",
    "else:\n",
    "    print(\"Contact not found.\")"
   ]
  },
  {
   "cell_type": "code",
   "execution_count": null,
   "id": "1075d3a0-8388-47d5-b3f6-5114cf264789",
   "metadata": {},
   "outputs": [],
   "source": []
  }
 ],
 "metadata": {
  "kernelspec": {
   "display_name": "Python [conda env:base] *",
   "language": "python",
   "name": "conda-base-py"
  },
  "language_info": {
   "codemirror_mode": {
    "name": "ipython",
    "version": 3
   },
   "file_extension": ".py",
   "mimetype": "text/x-python",
   "name": "python",
   "nbconvert_exporter": "python",
   "pygments_lexer": "ipython3",
   "version": "3.12.7"
  }
 },
 "nbformat": 4,
 "nbformat_minor": 5
}
